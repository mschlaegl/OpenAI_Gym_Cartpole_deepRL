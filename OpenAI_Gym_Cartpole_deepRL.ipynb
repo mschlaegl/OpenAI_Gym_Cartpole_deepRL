{
 "cells": [
  {
   "cell_type": "markdown",
   "id": "0f5f0392",
   "metadata": {},
   "source": [
    "# OpenAI Gym -- Solved Cartpole using DeepRL\n",
    "\n",
    "Solution for OpenAI Gym's Cartpole environment using deep reeinforcement learning.\n",
    "(C) 2022 Manfred SCHLAEGL <manfred.schlaegl@gmx.at>\n",
    "\n",
    "Code inspired by [(527) Deep Q-Network Training Code - Reinforcement Learning Code Project - YouTube](https://www.youtube.com/watch?v=ewRw996uevM&list=PLZbbT5o_s2xoWNVdDudn51XM8lOuZ_Njv&index=18)\n",
    "but strongly reworked (e.g. Cartpole observations instead of Images; Implemented load, save, play, ...)\n",
    "\n",
    "OpenAI Gym Cartpole Environment: https://www.gymlibrary.ml/environments/classic_control/cart_pole/\n",
    "\n",
    "## Requirements\n",
    " * Standard python packages (numpy, ...)\n",
    " * Matplolib: pip install Matplotlib\n",
    " * OpenAI Gym: pip install gym[all]\n",
    " * Pygame: pip install pygame\n",
    " * PyTorch: pip install torch\n",
    " * PyTorch Torchvision: pip install torchvision"
   ]
  },
  {
   "cell_type": "markdown",
   "id": "576642df",
   "metadata": {},
   "source": [
    "## Implementation"
   ]
  },
  {
   "cell_type": "markdown",
   "id": "91bdd77a",
   "metadata": {},
   "source": [
    "### Imports and Global Settings"
   ]
  },
  {
   "cell_type": "code",
   "execution_count": 1,
   "id": "c1637e7d",
   "metadata": {},
   "outputs": [
    {
     "name": "stderr",
     "output_type": "stream",
     "text": [
      "/opt/jupyternotebook/virtualenv/lib/python3.8/site-packages/torchvision/transforms/functional_pil.py:228: DeprecationWarning: BILINEAR is deprecated and will be removed in Pillow 10 (2023-07-01). Use Resampling.BILINEAR instead.\n",
      "  interpolation: int = Image.BILINEAR,\n",
      "/opt/jupyternotebook/virtualenv/lib/python3.8/site-packages/torchvision/transforms/functional_pil.py:295: DeprecationWarning: NEAREST is deprecated and will be removed in Pillow 10 (2023-07-01). Use Resampling.NEAREST or Dither.NONE instead.\n",
      "  interpolation: int = Image.NEAREST,\n",
      "/opt/jupyternotebook/virtualenv/lib/python3.8/site-packages/torchvision/transforms/functional_pil.py:328: DeprecationWarning: BICUBIC is deprecated and will be removed in Pillow 10 (2023-07-01). Use Resampling.BICUBIC instead.\n",
      "  interpolation: int = Image.BICUBIC,\n"
     ]
    }
   ],
   "source": [
    "%matplotlib inline\n",
    "#from gym import wrappers\n",
    "import math\n",
    "import random\n",
    "import numpy as np\n",
    "from os.path import exists\n",
    "import matplotlib\n",
    "import matplotlib.pyplot as plt\n",
    "import gym\n",
    "from collections import namedtuple\n",
    "from itertools import count\n",
    "import torch\n",
    "import torch.nn as nn\n",
    "import torch.optim as optim\n",
    "import torch.nn.functional as F\n",
    "import torchvision.transforms as T"
   ]
  },
  {
   "cell_type": "code",
   "execution_count": 2,
   "id": "f661a8f9",
   "metadata": {},
   "outputs": [],
   "source": [
    "is_ipython = 'inline' in matplotlib.get_backend()\n",
    "if is_ipython: from IPython import display\n",
    "torchdevice = torch.device(\"cuda\" if torch.cuda.is_available() else \"cpu\")"
   ]
  },
  {
   "cell_type": "markdown",
   "id": "37ef2466",
   "metadata": {},
   "source": [
    "### Framework"
   ]
  },
  {
   "cell_type": "markdown",
   "id": "ac904a0e",
   "metadata": {},
   "source": [
    "#### DQN: Model for policy (and target) network"
   ]
  },
  {
   "cell_type": "code",
   "execution_count": 3,
   "id": "2a29f340",
   "metadata": {},
   "outputs": [],
   "source": [
    "# DQN extends nn.Module\n",
    "class DQN(nn.Module):\n",
    "\n",
    "    def __init__(self, n_inputs, n_outputs):\n",
    "        \"\"\"\n",
    "        model constructor\n",
    "\n",
    "        :param n_inputs: number of inputs\n",
    "        :param n_outputs: number of outputs\n",
    "        \"\"\" \n",
    "        super().__init__()\n",
    "        self.n_inputs = n_inputs\n",
    "        self.n_outputs = n_outputs\n",
    "        \n",
    "        self.fc1 = nn.Linear(in_features=n_inputs, out_features=24)\n",
    "        self.out = nn.Linear(in_features=24, out_features=n_outputs)\n",
    "\n",
    "    \n",
    "    # overloaded\n",
    "    def forward(self, inputs):\n",
    "        t = inputs.flatten(start_dim=1)\n",
    "        t = F.relu(self.fc1(t))\n",
    "        t = self.out(t)\n",
    "        return t\n",
    "\n",
    "    \n",
    "    def clone(self, torchdevice):\n",
    "        \"\"\"\n",
    "        clone this model\n",
    "\n",
    "        :torchdevice:\n",
    "        :return: clone of current model\n",
    "        \"\"\"\n",
    "        clone = DQN(self.n_inputs, self.n_outputs).to(torchdevice)\n",
    "        clone.load_state_dict(self.state_dict())\n",
    "        return clone\n",
    "    \n",
    "    \n",
    "    def save(self, filename):\n",
    "        \"\"\"\n",
    "        save the model to given file\n",
    "\n",
    "        :filename: file to save the model to\n",
    "        \"\"\" \n",
    "        torch.save(self.state_dict(), filename)\n",
    "        \n",
    "\n",
    "    def load(self, filename):\n",
    "        \"\"\"\n",
    "        load the model from given file\n",
    "\n",
    "        :filename: file to save the model to\n",
    "        :return: False if file does not exist\n",
    "        \"\"\"\n",
    "        if not exists(filename):\n",
    "            return False\n",
    "        \n",
    "        self.load_state_dict(torch.load(filename))\n",
    "        return True"
   ]
  },
  {
   "cell_type": "markdown",
   "id": "336375b5",
   "metadata": {},
   "source": [
    "#### Replay Memory for Experience Replay\n"
   ]
  },
  {
   "cell_type": "code",
   "execution_count": 4,
   "id": "e20391ef",
   "metadata": {},
   "outputs": [],
   "source": [
    "# python tuple with named fields\n",
    "Experience = namedtuple(\n",
    "    'Experience',\n",
    "    ('state', 'action', 'next_state', 'reward')\n",
    ")\n",
    "\n",
    "class ReplayMemory():\n",
    "    def __init__(self, capacity):\n",
    "        \"\"\"\n",
    "        initialize with given capacity\n",
    "\n",
    "        :capacity: capacity of the ReplayMemory\n",
    "        \"\"\"\n",
    "        self.capacity = capacity\n",
    "        self.memory = []\n",
    "        self.push_count = 0\n",
    "        self.push_idx = 0\n",
    "       \n",
    "    \n",
    "    def push(self, experience):\n",
    "        \"\"\"\n",
    "        push a new experience\n",
    "        if the memory is full we push in round robin fashion\n",
    "\n",
    "        :experience: Experience to push\n",
    "        \"\"\"\n",
    "        if len(self.memory) < self.capacity:\n",
    "            self.memory.append(experience)\n",
    "        else:\n",
    "            self.memory[self.push_idx] = experience\n",
    "        self.push_idx += 1\n",
    "        if self.push_idx >= self.capacity:\n",
    "            self.push_idx = 0\n",
    "        self.push_count += 1\n",
    "        \n",
    "        \n",
    "    def nElements(self):\n",
    "        \"\"\"\n",
    "        Number of experiences in ReplayMemory\n",
    "\n",
    "        :return: number of experiences in ReplayMemory\n",
    "        \"\"\"\n",
    "        return len(self.memory)\n",
    "        \n",
    "        \n",
    "    def can_provide_sample(self, batch_size):\n",
    "        \"\"\"\n",
    "        Enough experiences in ReplayMemory to return batch_size\n",
    "\n",
    "        :batch_size: size of the batch\n",
    "        :return: True if number of experiences > batch_size\n",
    "        \"\"\"\n",
    "        return self.nElements() >= batch_size\n",
    "    \n",
    "    \n",
    "    def sample(self, batch_size):\n",
    "        \"\"\"\n",
    "        get a random batch of experiences\n",
    "\n",
    "        :batch_size: size of the batch\n",
    "        :return: random batch (None if not enough samples)\n",
    "        \"\"\"\n",
    "        if not self.can_provide_sample(batch_size):\n",
    "            return None\n",
    "        return random.sample(self.memory, batch_size)"
   ]
  },
  {
   "cell_type": "markdown",
   "id": "cf3047cb",
   "metadata": {},
   "source": [
    "#### Agent (and Action Selection Strategies)"
   ]
  },
  {
   "cell_type": "code",
   "execution_count": 5,
   "id": "7ec22ef7",
   "metadata": {},
   "outputs": [],
   "source": [
    "# Epsilon Greedy Strategy (for Training)\n",
    "class EpsilonGreedyStrategy():\n",
    "    def __init__(self, start, end, decay):\n",
    "        self.start = start\n",
    "        self.end = end\n",
    "        self.decay = decay\n",
    "        \n",
    "    def get_exploration_rate(self, current_step):\n",
    "        return self.end + (self.start - self.end) * \\\n",
    "            math.exp(-1. * current_step * self.decay)\n",
    "\n",
    "# Exploitation Strategy (for Playing)\n",
    "class ExploitationStrategy():\n",
    "    def get_exploration_rate(self, current_step):\n",
    "        return 0\n",
    "\n",
    "\n",
    "# Agent (Action Selection)\n",
    "class Agent():\n",
    "    def __init__(self, torchdevice, strategy, n_actions):\n",
    "        self.current_step = 0\n",
    "        self.strategy = strategy\n",
    "        self.n_actions = n_actions\n",
    "        self.torchdevice = torchdevice\n",
    "        \n",
    "    def select_action(self, state, policy_net):\n",
    "        \"\"\"\n",
    "        select action w.r.t. given state and configured\n",
    "        strategy\n",
    "\n",
    "        :state: current state\n",
    "        :policy_net: the policy network\n",
    "        :return: action\n",
    "        \"\"\"\n",
    "        rate = self.strategy.get_exploration_rate(self.current_step)\n",
    "        self.current_step += 1\n",
    "        \n",
    "        if rate > random.random():\n",
    "            #print('explore')\n",
    "            action = random.randrange(self.n_actions)\n",
    "            return torch.tensor([action]).to(self.torchdevice)\n",
    "        else:\n",
    "            #print('exploit')\n",
    "            with torch.no_grad():\n",
    "                return policy_net(state).argmax(dim=1).to(self.torchdevice)"
   ]
  },
  {
   "cell_type": "markdown",
   "id": "7f40e6cd",
   "metadata": {},
   "source": [
    "#### Cartpole Environment Handling"
   ]
  },
  {
   "cell_type": "code",
   "execution_count": 6,
   "id": "212485eb",
   "metadata": {},
   "outputs": [],
   "source": [
    "class CartPoleEnvManager():\n",
    "    def __init__(self, torchdevice):\n",
    "        self.torchdevice = torchdevice\n",
    "        # unwrapped gives access to behind the scene elements of env\n",
    "        self.env = gym.make('CartPole-v1').unwrapped\n",
    "        self.reset()\n",
    "        \n",
    "    def reset(self):\n",
    "        self.env.reset()\n",
    "        self.state = None\n",
    "        self.done = False\n",
    "        \n",
    "    def close(self):\n",
    "        self.env.close()\n",
    "        \n",
    "    def render(self, mode='human'):\n",
    "        return self.env.render(mode)\n",
    "    \n",
    "    def n_observations(self):\n",
    "        return self.env.observation_space.shape[0]\n",
    "    \n",
    "    def n_actions(self):\n",
    "        return self.env.action_space.n\n",
    "    \n",
    "    def take_action(self, action):\n",
    "        \"\"\"\n",
    "        perform action and return reward\n",
    "\n",
    "        :action: action to take\n",
    "        :return: reward\n",
    "        \"\"\"\n",
    "        # action is tensor -> item delivers value of tensor as python number\n",
    "        self.state, reward, self.done, _ = self.env.step(action.item())\n",
    "        return torch.tensor([np.float32(reward)], device=self.torchdevice)\n",
    "\n",
    "    def get_state(self):\n",
    "        if self.state is None or self.done:\n",
    "            # no action was done before\n",
    "            ret=torch.zeros(self.n_observations())\n",
    "        else:\n",
    "            ret=torch.tensor(self.state, device=self.torchdevice)\n",
    "        return ret.unsqueeze(0).to(self.torchdevice)"
   ]
  },
  {
   "cell_type": "markdown",
   "id": "6ab4fad6",
   "metadata": {},
   "source": [
    "#### QValue calculation"
   ]
  },
  {
   "cell_type": "code",
   "execution_count": 7,
   "id": "16ec8162",
   "metadata": {},
   "outputs": [],
   "source": [
    "class QValues():\n",
    "    @staticmethod\n",
    "    def get_current(policy_net, states, actions):\n",
    "        return policy_net(states).gather(dim=1, index=actions.unsqueeze(-1))\n",
    "    \n",
    "    @staticmethod\n",
    "    def get_next(target_net, next_states):\n",
    "        # handling of final states\n",
    "        final_state_locations = next_states.flatten(start_dim=1) \\\n",
    "            .max(dim=1)[0].eq(0).type(torch.bool)\n",
    "        non_final_state_locations = (final_state_locations == False)\n",
    "        non_final_states = next_states[non_final_state_locations]\n",
    "        batch_size = next_states.shape[0]\n",
    "        values = torch.zeros(batch_size).to(torchdevice)\n",
    "        values[non_final_state_locations] = target_net(non_final_states).max(dim=1)[0].detach()\n",
    "        return values"
   ]
  },
  {
   "cell_type": "markdown",
   "id": "d31b3088",
   "metadata": {},
   "source": [
    "#### Misc Helper Functions"
   ]
  },
  {
   "cell_type": "code",
   "execution_count": 8,
   "id": "0d71ebe5",
   "metadata": {},
   "outputs": [],
   "source": [
    "def plot(values, moving_avg_period):\n",
    "    plt.figure(2)\n",
    "    plt.clf()\n",
    "    plt.title('Training ...')\n",
    "    plt.xlabel('Episode')\n",
    "    plt.ylabel('Reward')\n",
    "    plt.plot(values)\n",
    "    \n",
    "    moving_avg = get_moving_average(values, moving_avg_period)\n",
    "    plt.plot(moving_avg)\n",
    "    plt.pause(1)\n",
    "    print(\"Episode\", len(values), \"\\n\", \\\n",
    "         moving_avg_period, \"episode moving avg:\", moving_avg[-1])\n",
    "    if is_ipython: display.clear_output(wait=True)\n",
    "\n",
    "def plot_results(values, moving_avg_period):\n",
    "    episode_best = np.argmax(values)\n",
    "    moving_avg_best = np.max(values)\n",
    "    print(\"best episode: \" + str(episode_best) + \" with reward \" + str(moving_avg_best))\n",
    "    plot(values, moving_avg_period)\n",
    "        \n",
    "def get_moving_average(values, period):\n",
    "    values = torch.tensor(values, dtype=torch.float)\n",
    "    if len(values) < period:\n",
    "        moving_avg = torch.zeros(len(values))\n",
    "        return moving_avg.numpy()\n",
    "    \n",
    "    # periode slice and mean\n",
    "    moving_avg = values.unfold(dimension=0, size=period, step=1) \\\n",
    "        .mean(dim=1).flatten(start_dim=0)\n",
    "    moving_avg = torch.cat((torch.zeros(period-1), moving_avg))\n",
    "    return moving_avg.numpy()\n",
    "\n",
    "def extract_tensors(experiences):\n",
    "    batch = Experience(*zip(*experiences))\n",
    "    t1 = torch.cat(batch.state)\n",
    "    t2 = torch.cat(batch.action)\n",
    "    t3 = torch.cat(batch.reward)\n",
    "    t4 = torch.cat(batch.next_state)\n",
    "    return (t1, t2, t3, t4)"
   ]
  },
  {
   "cell_type": "markdown",
   "id": "e5119c29",
   "metadata": {},
   "source": [
    "### Application"
   ]
  },
  {
   "cell_type": "code",
   "execution_count": 9,
   "id": "4e4b5a57",
   "metadata": {},
   "outputs": [],
   "source": [
    "# Hyper Parameters for Training\n",
    "class HyperParameters():\n",
    "    def __init__(self):\n",
    "        \n",
    "        # size of replay memory for experience replay\n",
    "        self.memory_size = 100000\n",
    "        \n",
    "        # batch_size (taken from replay memory)\n",
    "        self.batch_size = 256\n",
    "        \n",
    "        # RL gamma\n",
    "        self.gamma = 0.999\n",
    "        \n",
    "        # exploration rate (start, end, decay)\n",
    "        self.eps_start = 1\n",
    "        self.eps_end = 0.01\n",
    "        self.eps_decay = 0.001\n",
    "        \n",
    "        # episodes after which target_net = policy_net\n",
    "        self.target_update = 10\n",
    "        \n",
    "        # learning rate\n",
    "        self.lr = 0.001\n",
    "        \n",
    "        # number of episodes\n",
    "        self.n_episodes = 2000\n",
    "        \n",
    "        # maximum number of timesteps to play\n",
    "        self.max_timestep = 1000 # 500 is success in CartPole-v1"
   ]
  },
  {
   "cell_type": "code",
   "execution_count": 10,
   "id": "d3f3623a",
   "metadata": {},
   "outputs": [],
   "source": [
    "def load(torchdevice, filename):\n",
    "    \"\"\"\n",
    "    load a policy network from given file\n",
    "\n",
    "    :torchdevice: torch.device(...)\n",
    "    :filename: filename\n",
    "    :return: polcy network (None if file not found)\n",
    "    \"\"\"\n",
    "\n",
    "    em = CartPoleEnvManager(torchdevice)\n",
    "    policy_net = DQN(\n",
    "        em.n_observations(),\n",
    "        em.n_actions()).to(torchdevice)\n",
    "    if not policy_net.load(filename):\n",
    "        return None\n",
    "    return policy_net"
   ]
  },
  {
   "cell_type": "code",
   "execution_count": 11,
   "id": "924ed53a",
   "metadata": {},
   "outputs": [],
   "source": [
    "def train(torchdevice, hpara, stat_update = 100, policy_net = None):\n",
    "    \"\"\"\n",
    "    train a policy network with given parameters\n",
    "\n",
    "    :torchdevice: torch.device(...)\n",
    "    :filename: filename\n",
    "    :stat_update: plot statistics after every stat_update episodes (default 100)\n",
    "    :policy_net: optional existing model to train\n",
    "    :return: (best found policy network, episode rewards)\n",
    "    \"\"\"\n",
    "        \n",
    "    # setup env and agent\n",
    "    em = CartPoleEnvManager(torchdevice)\n",
    "    agent = Agent(\n",
    "        torchdevice,\n",
    "        EpsilonGreedyStrategy(\n",
    "            hpara.eps_start,\n",
    "            hpara.eps_end,\n",
    "            hpara.eps_decay),\n",
    "        em.n_actions())\n",
    "    \n",
    "    # setup replay memory (for experience replay)\n",
    "    memory = ReplayMemory(hpara.memory_size)\n",
    "\n",
    "    # create new policy_net (if not given)\n",
    "    if policy_net == None:\n",
    "        policy_net = DQN(\n",
    "            em.n_observations(),\n",
    "            em.n_actions()).to(torchdevice)\n",
    "    policy_net.train() # switch to training mode\n",
    "    \n",
    "    # create target net\n",
    "    target_net = policy_net.clone(torchdevice)\n",
    "    target_net.eval() # only inference\n",
    "    \n",
    "    # setup optimizer\n",
    "    optimizer = optim.Adam(params=policy_net.parameters(), lr=hpara.lr)\n",
    "    \n",
    "    # track best episode\n",
    "    moving_avg_best = 0\n",
    "    episode_best = 0\n",
    "    policy_net_best = policy_net.clone(torchdevice)\n",
    "    policy_net_best.eval() # only inference    \n",
    "    \n",
    "    # track episode rewards\n",
    "    episode_rewards = []\n",
    "    \n",
    "    # start training\n",
    "    print(\"0: \", end='')\n",
    "    for episode in range(hpara.n_episodes):\n",
    "\n",
    "        # start new episode\n",
    "        print(\".\", end='')\n",
    "        em.reset()\n",
    "        \n",
    "        state = em.get_state()\n",
    "        reward_sum = 0\n",
    "        for timestep in count():\n",
    "            \n",
    "            # make a move\n",
    "            action = agent.select_action(state, policy_net)\n",
    "            reward = em.take_action(action)\n",
    "            reward_sum += reward\n",
    "            next_state = em.get_state()\n",
    "            memory.push(Experience(state, action, next_state, reward))\n",
    "\n",
    "            state = next_state\n",
    "\n",
    "            # start training, after we have enough samples in replay memory\n",
    "            if memory.can_provide_sample(hpara.batch_size):\n",
    "                \n",
    "                # get batch of experiences\n",
    "                experiences = memory.sample(hpara.batch_size)\n",
    "                states, actions, rewards, next_states = extract_tensors(experiences)\n",
    "\n",
    "                # calculate qvalues and loss\n",
    "                current_q_values = QValues.get_current(policy_net, states, actions)\n",
    "                next_q_values = QValues.get_next(target_net, next_states)\n",
    "                target_q_values = (next_q_values * hpara.gamma) + rewards\n",
    "                loss = F.mse_loss(current_q_values, target_q_values.unsqueeze(1))\n",
    "                \n",
    "                # pytorch saves grad of w and bias\n",
    "                optimizer.zero_grad()\n",
    "                # computes gradient w.r.t to bias and weights\n",
    "                loss.backward()\n",
    "                # update weight and bias from backward (connection to loss?)\n",
    "                optimizer.step()\n",
    "\n",
    "            \n",
    "            # end of episode?\n",
    "            if em.done or timestep >= hpara.max_timestep:\n",
    "                # statistics\n",
    "                episode_rewards.append(reward_sum)\n",
    "\n",
    "                # save best model found so far\n",
    "                moving_avg = get_moving_average(episode_durations, 100)[-1]\n",
    "                if moving_avg > moving_avg_best:\n",
    "                    print(\"\\nsave best episode: \" + str(episode_best) +\n",
    "                          \" with reward \" + str(moving_avg_best));\n",
    "                    if is_ipython: display.clear_output(wait=True)\n",
    "                    moving_avg_best = moving_avg\n",
    "                    episode_best = episode\n",
    "                    policy_net_best.load_state_dict(policy_net.state_dict())\n",
    "\n",
    "                # update target_net\n",
    "                if episode % hpara.target_update == 0:\n",
    "                    target_net.load_state_dict(policy_net.state_dict())\n",
    "    \n",
    "                # output statistics\n",
    "                if episode % stat_update == 0:\n",
    "                    print('\\nepisode: ' + str(episode))\n",
    "                    plot(episode_rewards, 100)\n",
    "                    print(str(episode) + \": \", end='')\n",
    "\n",
    "                break\n",
    "\n",
    "    em.close()\n",
    "\n",
    "    # return best policy and statistics\n",
    "    policy_net_best.eval() # only inference    \n",
    "    return (policy_net_best, episode_rewards)"
   ]
  },
  {
   "cell_type": "code",
   "execution_count": 12,
   "id": "f7dbc583",
   "metadata": {},
   "outputs": [],
   "source": [
    "def play(torchdevice, policy_net, num_episodes = 1, max_timestep = 1000):\n",
    "    \"\"\"\n",
    "    play the game using a given policy network\n",
    "\n",
    "    :torchdevice: torch.device(...)\n",
    "    :policy_net: policy network to use\n",
    "    :num_episodes: number of episodes to play (default 1)\n",
    "    :max_timestep: maximum timesteps to play (default 1000)\n",
    "    :return: episode rewards\n",
    "    \"\"\"\n",
    "        \n",
    "    # setup env and agent\n",
    "    em = CartPoleEnvManager(torchdevice)\n",
    "    agent = Agent(torchdevice,\n",
    "                  ExploitationStrategy(),\n",
    "                  em.n_actions())\n",
    "\n",
    "    # track episode rewards\n",
    "    episode_rewards = []\n",
    "\n",
    "    for episode in range(num_episodes):\n",
    "\n",
    "        print('episode: ' + str(episode))\n",
    "\n",
    "        # start new episode\n",
    "        em.reset()\n",
    "\n",
    "        # play\n",
    "        state = em.get_state()\n",
    "        reward_sum = 0\n",
    "        for timestep in count():\n",
    "\n",
    "            # render output\n",
    "            em.render()\n",
    "\n",
    "            # make a move\n",
    "            action = agent.select_action(state, policy_net)\n",
    "            reward_sum += em.take_action(action)\n",
    "            state = em.get_state()\n",
    "\n",
    "            # end of episode?\n",
    "            if em.done or timestep >= max_timestep:\n",
    "                episode_rewards.append(reward_sum)\n",
    "                plot(episode_rewards, 100)\n",
    "                break\n",
    "        \n",
    "    em.close()\n",
    "    return episode_rewards"
   ]
  },
  {
   "cell_type": "markdown",
   "id": "9307656f",
   "metadata": {},
   "source": [
    "### Main Program\n",
    "If the model file exists and is loadable -> play. If the model file does not exist -> train, save & play"
   ]
  },
  {
   "cell_type": "code",
   "execution_count": 13,
   "id": "09701d50",
   "metadata": {},
   "outputs": [],
   "source": [
    "# model file to load\n",
    "modelfile=\"OpenAI_Gym_Cartpole_deepRL.model\""
   ]
  },
  {
   "cell_type": "code",
   "execution_count": 14,
   "id": "4171b261",
   "metadata": {},
   "outputs": [
    {
     "name": "stderr",
     "output_type": "stream",
     "text": [
      "/opt/jupyternotebook/virtualenv/lib/python3.8/site-packages/gym/utils/passive_env_checker.py:97: UserWarning: \u001b[33mWARN: We recommend you to use a symmetric and normalized Box action space (range=[-1, 1]) https://stable-baselines3.readthedocs.io/en/master/guide/rl_tips.html\u001b[0m\n",
      "  logger.warn(\n"
     ]
    }
   ],
   "source": [
    "# try loading model\n",
    "policy_net = load(torchdevice, modelfile)"
   ]
  },
  {
   "cell_type": "code",
   "execution_count": 15,
   "id": "cc98163c",
   "metadata": {},
   "outputs": [
    {
     "name": "stdout",
     "output_type": "stream",
     "text": [
      "1900: ..................................................................................................."
     ]
    }
   ],
   "source": [
    "# if model could not be loaded -> train & save\n",
    "episode_rewards = None\n",
    "if policy_net is None:\n",
    "    para = HyperParameters()\n",
    "    policy_net, episode_rewards = train(torchdevice, para)\n",
    "    policy_net.save(modelfile)"
   ]
  },
  {
   "cell_type": "code",
   "execution_count": 16,
   "id": "62159a3e",
   "metadata": {},
   "outputs": [
    {
     "name": "stdout",
     "output_type": "stream",
     "text": [
      "best episode: 1015 with duration 1000\n"
     ]
    },
    {
     "data": {
      "image/png": "[encoded data removed]",
      "text/plain": [
       "<Figure size 432x288 with 1 Axes>"
      ]
     },
     "metadata": {
      "needs_background": "light"
     },
     "output_type": "display_data"
    },
    {
     "name": "stdout",
     "output_type": "stream",
     "text": [
      "Episode 2000 \n",
      " 100 episode moving avg: 994.88\n"
     ]
    }
   ],
   "source": [
    "# print results if net was trained\n",
    "if episode_rewards is not None:\n",
    "    plot_results(episode_rewards, 100)"
   ]
  },
  {
   "cell_type": "code",
   "execution_count": 17,
   "id": "34d8658e",
   "metadata": {},
   "outputs": [
    {
     "name": "stdout",
     "output_type": "stream",
     "text": [
      "episode: 4\n"
     ]
    },
    {
     "data": {
      "image/png": "[encoded data removed]",
      "text/plain": [
       "<Figure size 432x288 with 1 Axes>"
      ]
     },
     "metadata": {
      "needs_background": "light"
     },
     "output_type": "display_data"
    },
    {
     "name": "stdout",
     "output_type": "stream",
     "text": [
      "Episode 5 \n",
      " 100 episode moving avg: 0.0\n"
     ]
    }
   ],
   "source": [
    "# play\n",
    "episode_rewards = play(torchdevice, policy_net, 5, 1000)"
   ]
  },
  {
   "cell_type": "code",
   "execution_count": 18,
   "id": "fb5cdb14",
   "metadata": {},
   "outputs": [
    {
     "name": "stdout",
     "output_type": "stream",
     "text": [
      "best episode: 0 with duration 1000\n"
     ]
    },
    {
     "data": {
      "image/png": "[encoded data removed]",
      "text/plain": [
       "<Figure size 432x288 with 1 Axes>"
      ]
     },
     "metadata": {
      "needs_background": "light"
     },
     "output_type": "display_data"
    },
    {
     "name": "stdout",
     "output_type": "stream",
     "text": [
      "Episode 5 \n",
      " 100 episode moving avg: 0.0\n"
     ]
    }
   ],
   "source": [
    "# print results of play\n",
    "if episode_rewards is not None:\n",
    "    plot_results(episode_rewards, 100)"
   ]
  }
 ],
 "metadata": {
  "kernelspec": {
   "display_name": "Python 3 (ipykernel)",
   "language": "python",
   "name": "python3"
  },
  "language_info": {
   "codemirror_mode": {
    "name": "ipython",
    "version": 3
   },
   "file_extension": ".py",
   "mimetype": "text/x-python",
   "name": "python",
   "nbconvert_exporter": "python",
   "pygments_lexer": "ipython3",
   "version": "3.8.3"
  }
 },
 "nbformat": 4,
 "nbformat_minor": 5
}
